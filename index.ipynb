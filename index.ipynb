{
 "cells": [
  {
   "cell_type": "markdown",
   "metadata": {},
   "source": [
    "# APIs - Cumulative Lab\n",
    "\n",
    "\n",
    "## Introduction \n",
    "\n",
    "We've seen how the Yelp API works and how to create basic visualizations using Folium. It's time to put those skills to work in order to create a working map! Taking things a step further, you'll also independently explore how to perform pagination in order to retrieve a full results set from the Yelp API.\n",
    "\n",
    "## Objectives\n",
    "\n",
    "You will be able to: \n",
    "\n",
    "* Practice using functions to organize your code\n",
    "* Use pagination to retrieve all results from an API query\n",
    "* Practice parsing data returned from an API query\n",
    "* Practice interpreting visualizations of a dataset\n",
    "* Create maps using Folium"
   ]
  },
  {
   "cell_type": "markdown",
   "metadata": {},
   "source": [
    "## Your Task: Query Yelp for All Businesses in a Category and Analyze the Results\n",
    "\n",
    "![restaurant counter with pizza](images/restaurant_counter.jpg)\n",
    "\n",
    "Photo by <a href=\"https://unsplash.com/@jordanmadrid?utm_source=unsplash&utm_medium=referral&utm_content=creditCopyText\">Jordan Madrid</a> on <a href=\"/s/photos/pizza-restaurant?utm_source=unsplash&utm_medium=referral&utm_content=creditCopyText\">Unsplash</a>"
   ]
  },
  {
   "cell_type": "markdown",
   "metadata": {},
   "source": [
    "### Overview\n",
    "\n",
    "You've now worked with some API calls, but we have yet to see how to retrieve a more complete dataset in a programmatic manner. In this lab, you will write a query of businesses on Yelp, then use *pagination* to retrieve all possible results for that query. Then you will create a summary of your findings, including a Folium map of the geographic locations of those businesses.\n",
    "\n",
    "### Technical Details\n",
    "\n",
    "Returning to the Yelp API, the [documentation](https://www.yelp.com/developers/documentation/v3/business_search) also provides us details regarding the **API limits**. These often include details about the number of requests a user is allowed to make within a specified time limit and the maximum number of results to be returned. In this case, we are told that any request has a **maximum of 50 results per request** and defaults to 20. Furthermore, any search will be limited to a **total of 1000 results**. To retrieve all 1000 of these results, we would have to page through the results piece by piece, retrieving 50 at a time. Processes such as these are often referred to as pagination.\n",
    "\n",
    "Also, be mindful of the **API** ***rate*** **limits**. You can only make **5000 requests per day** and are also can make requests too fast. Start prototyping small before running a loop that could be faulty. You can also use `time.sleep(n)` to add delays. For more details see https://www.yelp.com/developers/documentation/v3/rate_limiting.\n",
    "\n",
    "In this lab, you will define a search and then paginate over the results to retrieve all of the results. You'll then parse these responses as a list of dictionaries (for further exploration) and create a map using Folium to visualize the results geographically.\n",
    "\n",
    "### Requirements\n",
    "\n",
    "#### 1. Make the Initial Request\n",
    "\n",
    "Start by filling in your API key to make the initial request to the business search API. Investigate the structure of the response you get back and start figuring out how you will extract the relevant information.\n",
    "\n",
    "#### 2. Add Pagination\n",
    "\n",
    "Using loops and functions, collect the maximum number of results for your query from the API.\n",
    "\n",
    "#### 3. Perform Exploratory Analysis\n",
    "\n",
    "Interpret visualizations related to the price range, average rating, and number of reviews for all query results.\n",
    "\n",
    "#### 4. Create a Folium Map\n",
    "\n",
    "Using latitude and longitude data, plot the query results on an interactive map."
   ]
  },
  {
   "cell_type": "markdown",
   "metadata": {},
   "source": [
    "## 1. Make the Initial Request\n",
    "\n",
    "### Querying\n",
    "\n",
    "Start by making an initial request to the Yelp API. Your search must include at least 2 parameters: **term** and **location**. For example, you might search for pizza restaurants in NYC. The term and location is up to you but make the request below.\n",
    "\n",
    "Use the `requests` library ([documentation here](https://requests.readthedocs.io/en/master/user/quickstart/#make-a-request)).\n",
    "\n",
    "You'll also need an API key from Yelp. If you haven't done this already, go to the Yelp [Manage App page](https://www.yelp.com/developers/v3/manage_app) and create a new app (after making an account if you haven't already)."
   ]
  },
  {
   "cell_type": "code",
   "execution_count": 27,
   "metadata": {},
   "outputs": [
    {
     "name": "stdout",
     "output_type": "stream",
     "text": [
      "Requirement already satisfied: requests in c:\\users\\user\\anaconda3\\envs\\learn-env\\lib\\site-packages (2.24.0)\n",
      "Requirement already satisfied: urllib3!=1.25.0,!=1.25.1,<1.26,>=1.21.1 in c:\\users\\user\\anaconda3\\envs\\learn-env\\lib\\site-packages (from requests) (1.25.10)\n",
      "Requirement already satisfied: idna<3,>=2.5 in c:\\users\\user\\anaconda3\\envs\\learn-env\\lib\\site-packages (from requests) (2.10)\n",
      "Requirement already satisfied: chardet<4,>=3.0.2 in c:\\users\\user\\anaconda3\\envs\\learn-env\\lib\\site-packages (from requests) (3.0.4)\n",
      "Requirement already satisfied: certifi>=2017.4.17 in c:\\users\\user\\anaconda3\\envs\\learn-env\\lib\\site-packages (from requests) (2021.10.8)\n"
     ]
    },
    {
     "data": {
      "text/plain": [
       "<Response [200]>"
      ]
     },
     "execution_count": 27,
     "metadata": {},
     "output_type": "execute_result"
    }
   ],
   "source": [
    "# Replace None with appropriate code\n",
    "import json\n",
    "\n",
    "def get_keys(path):\n",
    "    with open(path) as f:\n",
    "        return json.load(f)\n",
    "\n",
    "# Import the requests library\n",
    "!pip install requests\n",
    "import requests\n",
    "# Get this from the \"Manage App\" page. Make sure you set them\n",
    "# back to None before pushing this to GitHub, since otherwise\n",
    "# your credentials will be compromised\n",
    "keys = get_keys(\"/Users/user/.secret/yelp_api.json\")\n",
    "api_key = api_key = keys['api_key']\n",
    "\n",
    "# These can be whatever you want! But the solution uses \"pizza\"\n",
    "# and \"New York NY\" if you want to compare your work directly\n",
    "term = 'pizza'\n",
    "location = 'New York NY'\n",
    "\n",
    "# Set up params for request\n",
    "url = \"https://api.yelp.com/v3/businesses/search\"\n",
    "headers = {\n",
    "    \"Authorization\": \"Bearer {}\".format(api_key)\n",
    "}\n",
    "url_params = {\n",
    "    \"term\": term.replace(\" \", \"+\"),\n",
    "    \"location\": location.replace(\" \", \"+\")\n",
    "}\n",
    "\n",
    "# Make the request using requests.get, passing in\n",
    "# url, headers=headers, and params=url_params\n",
    "response = requests.get(url, headers=headers, params=url_params)\n",
    "\n",
    "# Confirm we got a 200 response\n",
    "response"
   ]
  },
  {
   "cell_type": "code",
   "execution_count": 29,
   "metadata": {},
   "outputs": [
    {
     "data": {
      "text/plain": [
       "dict_keys(['businesses', 'total', 'region'])"
      ]
     },
     "execution_count": 29,
     "metadata": {},
     "output_type": "execute_result"
    }
   ],
   "source": [
    "# Run this cell without changes\n",
    "\n",
    "# Get the response body in JSON format\n",
    "response_json = response.json()\n",
    "# View the keys\n",
    "response_json.keys()"
   ]
  },
  {
   "cell_type": "markdown",
   "metadata": {},
   "source": [
    "### Extracting Data\n",
    "\n",
    "Now, retrieve the value associated with the `'businesses'` key, and inspect its contents."
   ]
  },
  {
   "cell_type": "code",
   "execution_count": 30,
   "metadata": {},
   "outputs": [
    {
     "data": {
      "text/plain": [
       "[{'id': 'zj8Lq1T8KIC5zwFief15jg',\n",
       "  'alias': 'prince-street-pizza-new-york-2',\n",
       "  'name': 'Prince Street Pizza',\n",
       "  'image_url': 'https://s3-media3.fl.yelpcdn.com/bphoto/ZAukOyv530w4KjOHC5YY1w/o.jpg',\n",
       "  'is_closed': False,\n",
       "  'url': 'https://www.yelp.com/biz/prince-street-pizza-new-york-2?adjust_creative=8ND9im03sJp0lyG3IK7WbA&utm_campaign=yelp_api_v3&utm_medium=api_v3_business_search&utm_source=8ND9im03sJp0lyG3IK7WbA',\n",
       "  'review_count': 4317,\n",
       "  'categories': [{'alias': 'pizza', 'title': 'Pizza'},\n",
       "   {'alias': 'italian', 'title': 'Italian'}],\n",
       "  'rating': 4.5,\n",
       "  'coordinates': {'latitude': 40.72308755605564,\n",
       "   'longitude': -73.99453001177575},\n",
       "  'transactions': ['pickup', 'delivery'],\n",
       "  'price': '$',\n",
       "  'location': {'address1': '27 Prince St',\n",
       "   'address2': None,\n",
       "   'address3': '',\n",
       "   'city': 'New York',\n",
       "   'zip_code': '10012',\n",
       "   'country': 'US',\n",
       "   'state': 'NY',\n",
       "   'display_address': ['27 Prince St', 'New York, NY 10012']},\n",
       "  'phone': '+12129664100',\n",
       "  'display_phone': '(212) 966-4100',\n",
       "  'distance': 1961.8771417367063},\n",
       " {'id': 'ysqgdbSrezXgVwER2kQWKA',\n",
       "  'alias': 'julianas-brooklyn-3',\n",
       "  'name': \"Juliana's\",\n",
       "  'image_url': 'https://s3-media2.fl.yelpcdn.com/bphoto/clscwgOF9_Ecq-Rwsq7jyQ/o.jpg',\n",
       "  'is_closed': False,\n",
       "  'url': 'https://www.yelp.com/biz/julianas-brooklyn-3?adjust_creative=8ND9im03sJp0lyG3IK7WbA&utm_campaign=yelp_api_v3&utm_medium=api_v3_business_search&utm_source=8ND9im03sJp0lyG3IK7WbA',\n",
       "  'review_count': 2434,\n",
       "  'categories': [{'alias': 'pizza', 'title': 'Pizza'}],\n",
       "  'rating': 4.5,\n",
       "  'coordinates': {'latitude': 40.70274718768062,\n",
       "   'longitude': -73.99343490196397},\n",
       "  'transactions': ['delivery'],\n",
       "  'price': '$$',\n",
       "  'location': {'address1': '19 Old Fulton St',\n",
       "   'address2': '',\n",
       "   'address3': '',\n",
       "   'city': 'Brooklyn',\n",
       "   'zip_code': '11201',\n",
       "   'country': 'US',\n",
       "   'state': 'NY',\n",
       "   'display_address': ['19 Old Fulton St', 'Brooklyn, NY 11201']},\n",
       "  'phone': '+17185966700',\n",
       "  'display_phone': '(718) 596-6700',\n",
       "  'distance': 308.56984360837544}]"
      ]
     },
     "execution_count": 30,
     "metadata": {},
     "output_type": "execute_result"
    }
   ],
   "source": [
    "# Replace None with appropriate code\n",
    "\n",
    "# Retrieve the value from response_json\n",
    "businesses = response_json['businesses']\n",
    "\n",
    "# View the first 2 records\n",
    "businesses[:2]"
   ]
  },
  {
   "cell_type": "markdown",
   "metadata": {},
   "source": [
    "### Preparing Data\n",
    "\n",
    "Write a function `prepare_data` that takes in a list of dictionaries like `businesses` and returns a copy that has been prepared for analysis:\n",
    "\n",
    "1. The `coordinates` key-value pair has been converted into two separate key-value pairs, `latitude` and `longitude`\n",
    "2. All other key-value pairs except for `name`, `review_count`, `rating`, and `price` have been dropped\n",
    "3. All dictionaries missing one of the relevant keys or containing null values have been dropped\n",
    "\n",
    "In other words, the final keys for each dictionary should be `name`, `review_count`, `rating`, `price`, `latitude`, and `longitude`.\n",
    "\n",
    "Complete the function in the cell below:"
   ]
  },
  {
   "cell_type": "code",
   "execution_count": 31,
   "metadata": {},
   "outputs": [
    {
     "name": "stdout",
     "output_type": "stream",
     "text": [
      "Prince Street Pizza 4317 4.5 $ 40.72308755605564 -73.99453001177575\n"
     ]
    }
   ],
   "source": [
    "data_1=businesses[0]\n",
    "name=  data_1['name']\n",
    "review_count=  data_1['review_count']\n",
    "rating =  data_1['rating']\n",
    "price =  data_1['price']\n",
    "latitude =  data_1['coordinates']['latitude']\n",
    "longitude = data_1['coordinates']['longitude']\n",
    "print(name,review_count, rating, price, latitude, longitude)"
   ]
  },
  {
   "cell_type": "code",
   "execution_count": 32,
   "metadata": {},
   "outputs": [
    {
     "data": {
      "text/plain": [
       "[{'name': 'Prince Street Pizza',\n",
       "  'review_count': 4317,\n",
       "  'rating': 4.5,\n",
       "  'price': '$',\n",
       "  'latitude': 40.72308755605564,\n",
       "  'longitude': -73.99453001177575},\n",
       " {'name': \"Juliana's\",\n",
       "  'review_count': 2434,\n",
       "  'rating': 4.5,\n",
       "  'price': '$$',\n",
       "  'latitude': 40.70274718768062,\n",
       "  'longitude': -73.99343490196397},\n",
       " {'name': \"Lombardi's Pizza\",\n",
       "  'review_count': 6306,\n",
       "  'rating': 4.0,\n",
       "  'price': '$$',\n",
       "  'latitude': 40.7215934960083,\n",
       "  'longitude': -73.9955956044561},\n",
       " {'name': 'Lucali',\n",
       "  'review_count': 1788,\n",
       "  'rating': 4.0,\n",
       "  'price': '$$',\n",
       "  'latitude': 40.681840746711224,\n",
       "  'longitude': -74.0003327},\n",
       " {'name': 'Rubirosa',\n",
       "  'review_count': 2634,\n",
       "  'rating': 4.5,\n",
       "  'price': '$$',\n",
       "  'latitude': 40.722766,\n",
       "  'longitude': -73.996233}]"
      ]
     },
     "execution_count": 32,
     "metadata": {},
     "output_type": "execute_result"
    }
   ],
   "source": [
    "# Replace None with appropriate code\n",
    "\n",
    "def prepare_data(data_list):\n",
    "    \"\"\"\n",
    "    This function takes in a list of dictionaries and prepares it\n",
    "    for analysis\n",
    "    \"\"\"\n",
    "    \n",
    "    # Make a new list to hold results\n",
    "    results = []\n",
    "    \n",
    "    for business_data in data_list:\n",
    "    \n",
    "        # Make a new dictionary to hold prepared data for this business\n",
    "        prepared_data = {}\n",
    "        \n",
    "        # Extract name, review_count, rating, and price key-value pairs\n",
    "        # from business_data and add to prepared_data\n",
    "        # If a key is not present in business_data, add it to prepared_data\n",
    "        # with an associated value of None\n",
    "        prepared_data['name']=  business_data['name']\n",
    "        prepared_data['review_count']=  business_data['review_count']\n",
    "        prepared_data['rating'] =  business_data['rating']\n",
    "        try:    \n",
    "            prepared_data['price'] =  business_data['price']\n",
    "        except KeyError:\n",
    "            prepared_data['price'] = None\n",
    "\n",
    "    \n",
    "        # Parse and add latitude and longitude columns\n",
    "        prepared_data['latitude'] =  business_data['coordinates']['latitude']\n",
    "        prepared_data['longitude'] = business_data['coordinates']['longitude']\n",
    "        \n",
    "        # Add to list if all values are present\n",
    "        if all(prepared_data.values()):\n",
    "            results.append(prepared_data)\n",
    "    \n",
    "    return results\n",
    "    \n",
    "# Test out function\n",
    "prepared_businesses = prepare_data(businesses)\n",
    "prepared_businesses[:5]"
   ]
  },
  {
   "cell_type": "markdown",
   "metadata": {},
   "source": [
    "Check that your function created the correct keys:"
   ]
  },
  {
   "cell_type": "code",
   "execution_count": 33,
   "metadata": {},
   "outputs": [],
   "source": [
    "# Run this cell without changes\n",
    "assert sorted(list(prepared_businesses[0].keys())) == ['latitude', 'longitude', 'name', 'price', 'rating', 'review_count']"
   ]
  },
  {
   "cell_type": "markdown",
   "metadata": {},
   "source": [
    "The following code will differ depending on your query, but we expect there to be 20 businesses in the original list, and potentially fewer in the prepared list (if any of them were missing data):"
   ]
  },
  {
   "cell_type": "code",
   "execution_count": 34,
   "metadata": {},
   "outputs": [
    {
     "name": "stdout",
     "output_type": "stream",
     "text": [
      "Original: 20\n",
      "Prepared: 20\n"
     ]
    }
   ],
   "source": [
    "# Run this cell without changes\n",
    "print(\"Original:\", len(businesses))\n",
    "print(\"Prepared:\", len(prepared_businesses))"
   ]
  },
  {
   "cell_type": "markdown",
   "metadata": {},
   "source": [
    "Great! We will reuse this function once we have retrieved the full dataset."
   ]
  },
  {
   "cell_type": "markdown",
   "metadata": {},
   "source": [
    "## 2. Add Pagination\n",
    "\n",
    "Now that you are able to extract information from one page of the response, let's figure out how to request as many pages as possible.\n",
    "\n",
    "### Determining the Total\n",
    "\n",
    "Depending on the number of total results for your query, you will either retrieve all of the results, or just the first 1000 (if there are more than 1000 total).\n",
    "\n",
    "We can find the total number of results using the `\"total\"` key:"
   ]
  },
  {
   "cell_type": "code",
   "execution_count": 35,
   "metadata": {},
   "outputs": [
    {
     "data": {
      "text/plain": [
       "12000"
      ]
     },
     "execution_count": 35,
     "metadata": {},
     "output_type": "execute_result"
    }
   ],
   "source": [
    "# Run this cell without changes\n",
    "response_json[\"total\"]"
   ]
  },
  {
   "cell_type": "markdown",
   "metadata": {},
   "source": [
    "(This is specific to the implementation of the Yelp API. Some APIs will just tell you that there are more pages, or will tell you the number of pages total, rather than the total number of results. If you're not sure, always check the documentation.)\n",
    "\n",
    "In the cell below, assign the variable `total` to either the value shown above (if it is less than 1000), or 1000."
   ]
  },
  {
   "cell_type": "code",
   "execution_count": 36,
   "metadata": {},
   "outputs": [
    {
     "name": "stdout",
     "output_type": "stream",
     "text": [
      "1000\n"
     ]
    }
   ],
   "source": [
    "# Replace None with appropriate code\n",
    "total = (response_json[\"total\"])\n",
    "if total>1000:\n",
    "    print(1000)\n",
    "else:\n",
    "    print(total)\n"
   ]
  },
  {
   "cell_type": "markdown",
   "metadata": {},
   "source": [
    "### Calculating the Offsets\n",
    "\n",
    "The documentation states in the parameters section:\n",
    "\n",
    "> **Name**: `limit`, **Type:** int, **Description:** Optional. Number of business results to return. By default, it will return 20. Maximum is 50.\n",
    "\n",
    "> **Name**: `offset`, **Type:** int, **Description:** Optional. Offset the list of returned business results by this amount.\n",
    "\n",
    "So, to get the most results with the fewest API calls we want to set a limit of 50 every time. If, say, we wanted to get 210 total results, that would mean:\n",
    "\n",
    "1. Offset of `0` (first 50 records)\n",
    "2. Offset of `50` (second 50 records)\n",
    "3. Offset of `100` (third 50 records)\n",
    "4. Offset of `150` (fourth 50 records)\n",
    "5. Offset of `200` (final 10 records)\n",
    "\n",
    "In the cell below, create a function `get_offsets` that takes in a total and returns a list of offsets for that total. You can assume that there is a limit of 50 every time.\n",
    "\n",
    "*Hint: you can use `range` ([documentation here](https://docs.python.org/3.3/library/stdtypes.html?highlight=range#range)) to do this in one line of code. Just make the returned result is a list.*"
   ]
  },
  {
   "cell_type": "code",
   "execution_count": 37,
   "metadata": {},
   "outputs": [],
   "source": [
    "# Replace None with appropriate code\n",
    "def get_offsets(total):\n",
    "    \"\"\"\n",
    "    Get a list of offsets needed to get all pages\n",
    "    of data up until the total\n",
    "    \"\"\"\n",
    "    return list(range(0, total,50))"
   ]
  },
  {
   "cell_type": "markdown",
   "metadata": {},
   "source": [
    "Check that your function works below:"
   ]
  },
  {
   "cell_type": "code",
   "execution_count": 38,
   "metadata": {},
   "outputs": [],
   "source": [
    "# Run this cell without changes\n",
    "assert get_offsets(200) == [0, 50, 100, 150]\n",
    "assert get_offsets(210) == [0, 50, 100, 150, 200]"
   ]
  },
  {
   "cell_type": "markdown",
   "metadata": {},
   "source": [
    "### Putting It All Together\n",
    "\n",
    "Recall that the following variable has already been declared for you:"
   ]
  },
  {
   "cell_type": "code",
   "execution_count": 39,
   "metadata": {},
   "outputs": [
    {
     "data": {
      "text/plain": [
       "{'term': 'pizza', 'location': 'New+York+NY'}"
      ]
     },
     "execution_count": 39,
     "metadata": {},
     "output_type": "execute_result"
    }
   ],
   "source": [
    "# Run this cell without changes\n",
    "url_params"
   ]
  },
  {
   "cell_type": "markdown",
   "metadata": {},
   "source": [
    "We'll go ahead and also specify that the limit should be 50 every time:"
   ]
  },
  {
   "cell_type": "code",
   "execution_count": 40,
   "metadata": {},
   "outputs": [],
   "source": [
    "# Run this cell without changes\n",
    "url_params[\"limit\"] = 50"
   ]
  },
  {
   "cell_type": "markdown",
   "metadata": {},
   "source": [
    "In order to modify the offset, you'll need to add it to `url_params` with the key `\"offset\"` and whatever value is needed.\n",
    "\n",
    "In the cell below, write code that:\n",
    "\n",
    "* Creates an empty list for the full prepared dataset\n",
    "* Loops over all of the offsets from `get_offsets` and makes an API call each time with the specified offset\n",
    "* Calls `prepare_data` to get a cleaned version of the result of each API call\n",
    "* Extends the full prepared dataset list with each query's prepared dataset"
   ]
  },
  {
   "cell_type": "code",
   "execution_count": 41,
   "metadata": {},
   "outputs": [
    {
     "ename": "KeyError",
     "evalue": "'businesses'",
     "output_type": "error",
     "traceback": [
      "\u001b[1;31m---------------------------------------------------------------------------\u001b[0m",
      "\u001b[1;31mKeyError\u001b[0m                                  Traceback (most recent call last)",
      "\u001b[1;32m<ipython-input-41-5427601eb94a>\u001b[0m in \u001b[0;36m<module>\u001b[1;34m\u001b[0m\n\u001b[0;32m     15\u001b[0m \u001b[1;33m\u001b[0m\u001b[0m\n\u001b[0;32m     16\u001b[0m     \u001b[1;31m# Get the list of businesses from the response_json\u001b[0m\u001b[1;33m\u001b[0m\u001b[1;33m\u001b[0m\u001b[1;33m\u001b[0m\u001b[0m\n\u001b[1;32m---> 17\u001b[1;33m     \u001b[0mbusinesses\u001b[0m \u001b[1;33m=\u001b[0m \u001b[0mresponse_json\u001b[0m\u001b[1;33m[\u001b[0m\u001b[1;34m'businesses'\u001b[0m\u001b[1;33m]\u001b[0m\u001b[1;33m\u001b[0m\u001b[1;33m\u001b[0m\u001b[0m\n\u001b[0m\u001b[0;32m     18\u001b[0m \u001b[1;33m\u001b[0m\u001b[0m\n\u001b[0;32m     19\u001b[0m     \u001b[1;31m# Call the prepare_data function to get a list of processed data\u001b[0m\u001b[1;33m\u001b[0m\u001b[1;33m\u001b[0m\u001b[1;33m\u001b[0m\u001b[0m\n",
      "\u001b[1;31mKeyError\u001b[0m: 'businesses'"
     ]
    }
   ],
   "source": [
    "# Replace None with appropriate code\n",
    "\n",
    "# Create an empty list for the full prepared dataset\n",
    "full_dataset = []\n",
    "\n",
    "for offset in get_offsets(total):\n",
    "    # Add or update the \"offset\" key-value pair in url_params\n",
    "    url_params['offset'] = offset\n",
    "    \n",
    "    # Make the query and get the response\n",
    "    response = requests.get(url, headers=headers, params=url_params)\n",
    "    \n",
    "    # Get the response body in JSON format\n",
    "    response_json = response.json()\n",
    "    \n",
    "    # Get the list of businesses from the response_json\n",
    "    businesses = response_json['businesses']\n",
    "    \n",
    "    # Call the prepare_data function to get a list of processed data\n",
    "    prepared_businesses = prepare_data(businesses)\n",
    "    \n",
    "    # Extend full_dataset with this list (don't append, or you'll get\n",
    "    # a list of lists instead of a flat list)\n",
    "    full_dataset.extend(prepared_businesses)\n",
    "\n",
    "# Check the length of the full dataset. It will be up to `total`,\n",
    "# potentially less if there were missing values\n",
    "len(full_dataset)"
   ]
  },
  {
   "cell_type": "markdown",
   "metadata": {},
   "source": [
    "This code may take up to a few minutes to run.\n",
    "\n",
    "If you get an error trying to get the response body in JSON format, try adding `time.sleep(1)` right after the `requests.get` line, so your code will sleep for 1 second between each API call."
   ]
  },
  {
   "cell_type": "markdown",
   "metadata": {},
   "source": [
    "## 3. Perform Exploratory Analysis\n",
    "\n",
    "Take the businesses from the previous question and do an initial exploratory analysis. We have provided some plots for you to interpret:"
   ]
  },
  {
   "cell_type": "code",
   "execution_count": 24,
   "metadata": {},
   "outputs": [
    {
     "data": {
      "image/png": "[encoded data removed]",
      "text/plain": [
       "<Figure size 1152x360 with 3 Axes>"
      ]
     },
     "metadata": {
      "needs_background": "light"
     },
     "output_type": "display_data"
    }
   ],
   "source": [
    "# Run this cell without changes\n",
    "from collections import Counter\n",
    "import matplotlib.pyplot as plt\n",
    "%matplotlib inline\n",
    "\n",
    "fig, (ax1, ax2, ax3) = plt.subplots(ncols=3, figsize=(16, 5))\n",
    "\n",
    "# Plot distribution of number of reviews\n",
    "all_review_counts = [x[\"review_count\"] for x in full_dataset]\n",
    "ax1.hist(all_review_counts)\n",
    "ax1.set_title(\"Review Count Distribution\")\n",
    "ax1.set_xlabel(\"Number of Reviews\")\n",
    "ax1.set_ylabel(\"Number of Businesses\")\n",
    "\n",
    "# Plot rating distribution\n",
    "all_ratings = [x[\"rating\"] for x in full_dataset]\n",
    "rating_counter = Counter(all_ratings)\n",
    "rating_keys = sorted(rating_counter.keys())\n",
    "ax2.bar(rating_keys, [rating_counter[key] for key in rating_keys])\n",
    "ax2.set_title(\"Rating Distribution\")\n",
    "ax2.set_xlabel(\"Rating\")\n",
    "ax2.set_ylabel(\"Number of Businesses\")\n",
    "\n",
    "# Plot price distribution\n",
    "all_prices = [x[\"price\"].replace(\"$\", r\"\\$\") for x in full_dataset]\n",
    "price_counter = Counter(all_prices)\n",
    "price_keys = sorted(price_counter.keys())\n",
    "ax3.bar(price_keys, [price_counter[key] for key in price_keys])\n",
    "ax3.set_title(\"Price Distribution\")\n",
    "ax3.set_xlabel(\"Price Category\")\n",
    "ax3.set_ylabel(\"Number of Businesses\");"
   ]
  },
  {
   "cell_type": "markdown",
   "metadata": {},
   "source": [
    "Describe the distributions displayed above and interpret them in the context of your query. (Your answer may differ from the solution branch depending on your query.)"
   ]
  },
  {
   "cell_type": "code",
   "execution_count": null,
   "metadata": {},
   "outputs": [],
   "source": [
    "# Replace None with appropriate text\n",
    "\"\"\"\n",
    "Many businesses have reviews that are less than 3000, this indicates that most businesses don't have many reviews.\n",
    "Most businesses have ratings of 4. The rating is symentrical. So many businesses have rarings that are above average.\n",
    "$$ is the price of most businesses followed by $. This means most business are under price categories that are fairly cheap.\n",
    "\"\"\""
   ]
  },
  {
   "cell_type": "markdown",
   "metadata": {},
   "source": [
    "In the cell below, we also plot the rating distributions by price. In this setup, a price of one dollar sign is \"lower price\" and everything else is \"higher price\"."
   ]
  },
  {
   "cell_type": "code",
   "execution_count": null,
   "metadata": {},
   "outputs": [],
   "source": [
    "# Run this cell without changes\n",
    "\n",
    "higher_price = []\n",
    "lower_price = []\n",
    "for row in full_dataset:\n",
    "    if row[\"price\"] == \"$\":\n",
    "        lower_price.append(row[\"rating\"])\n",
    "    else:\n",
    "        higher_price.append(row[\"rating\"])\n",
    "        \n",
    "fig, ax = plt.subplots()\n",
    "\n",
    "ax.hist([higher_price, lower_price], label=[\"higher price\", \"lower price\"], density=True)\n",
    "\n",
    "ax.legend();"
   ]
  },
  {
   "cell_type": "markdown",
   "metadata": {},
   "source": [
    "Is a higher price associated with a higher rating? (No need for any additional math/statistics, just interpret what you see in the plot.)"
   ]
  },
  {
   "cell_type": "code",
   "execution_count": null,
   "metadata": {},
   "outputs": [],
   "source": [
    "# Replace None with appropriate text\n",
    "\"\"\"\n",
    "Yes, it's. The rating increases as the price increases.\n",
    "\"\"\""
   ]
  },
  {
   "cell_type": "markdown",
   "metadata": {},
   "source": [
    "Finally, let's look at ratings vs. review counts:"
   ]
  },
  {
   "cell_type": "code",
   "execution_count": null,
   "metadata": {},
   "outputs": [],
   "source": [
    "# Run this cell without changes\n",
    "fig, ax = plt.subplots(figsize=(16,5))\n",
    "\n",
    "ax.scatter(all_review_counts, all_ratings, alpha=0.2)\n",
    "ax.set_xlabel(\"Number of Reviews\")\n",
    "ax.set_ylabel(\"Rating\")\n",
    "# \"zoom in\" to a subset of review counts\n",
    "ax.set_xlim(left=0, right=1000);"
   ]
  },
  {
   "cell_type": "markdown",
   "metadata": {},
   "source": [
    "Is a higher number of reviews associated with a higher rating?"
   ]
  },
  {
   "cell_type": "code",
   "execution_count": null,
   "metadata": {},
   "outputs": [],
   "source": [
    "# Replace None with appropriate text\n",
    "\"\"\"\n",
    "The two factors aren't related.\n",
    "\"\"\""
   ]
  },
  {
   "cell_type": "markdown",
   "metadata": {},
   "source": [
    "## 4. Create a Folium Map\n",
    "\n",
    "Make a map using Folium of the businesses you retrieved. Be sure to also add popups to the markers giving some basic information such as name, rating and price.\n",
    "\n",
    "You can center the map around the latitude and longitude of the first item in `full_dataset`."
   ]
  },
  {
   "cell_type": "code",
   "execution_count": 26,
   "metadata": {},
   "outputs": [
    {
     "name": "stdout",
     "output_type": "stream",
     "text": [
      "Requirement already satisfied: folium in c:\\users\\user\\anaconda3\\envs\\learn-env\\lib\\site-packages (0.11.0)\n",
      "Requirement already satisfied: requests in c:\\users\\user\\anaconda3\\envs\\learn-env\\lib\\site-packages (from folium) (2.24.0)\n",
      "Requirement already satisfied: numpy in c:\\users\\user\\anaconda3\\envs\\learn-env\\lib\\site-packages (from folium) (1.18.5)\n",
      "Requirement already satisfied: branca>=0.3.0 in c:\\users\\user\\anaconda3\\envs\\learn-env\\lib\\site-packages (from folium) (0.4.1)\n",
      "Requirement already satisfied: jinja2>=2.9 in c:\\users\\user\\anaconda3\\envs\\learn-env\\lib\\site-packages (from folium) (2.11.2)\n",
      "Requirement already satisfied: certifi>=2017.4.17 in c:\\users\\user\\anaconda3\\envs\\learn-env\\lib\\site-packages (from requests->folium) (2021.10.8)\n",
      "Requirement already satisfied: idna<3,>=2.5 in c:\\users\\user\\anaconda3\\envs\\learn-env\\lib\\site-packages (from requests->folium) (2.10)\n",
      "Requirement already satisfied: chardet<4,>=3.0.2 in c:\\users\\user\\anaconda3\\envs\\learn-env\\lib\\site-packages (from requests->folium) (3.0.4)\n",
      "Requirement already satisfied: urllib3!=1.25.0,!=1.25.1,<1.26,>=1.21.1 in c:\\users\\user\\anaconda3\\envs\\learn-env\\lib\\site-packages (from requests->folium) (1.25.10)\n",
      "Requirement already satisfied: MarkupSafe>=0.23 in c:\\users\\user\\anaconda3\\envs\\learn-env\\lib\\site-packages (from jinja2>=2.9->folium) (1.1.1)\n"
     ]
    },
    {
     "data": {
      "text/html": [
       "<div style=\"width:100%;\"><div style=\"position:relative;width:100%;height:0;padding-bottom:60%;\"><span style=\"color:#565656\">Make this Notebook Trusted to load map: File -> Trust Notebook</span><iframe src=\"about:blank\" style=\"position:absolute;width:100%;height:100%;left:0;top:0;border:none !important;\" data-html=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 onload=\"this.contentDocument.open();this.contentDocument.write(atob(this.getAttribute('data-html')));this.contentDocument.close();\" allowfullscreen webkitallowfullscreen mozallowfullscreen></iframe></div></div>"
      ],
      "text/plain": [
       "<folium.folium.Map at 0x2cba2c00c10>"
      ]
     },
     "execution_count": 26,
     "metadata": {},
     "output_type": "execute_result"
    }
   ],
   "source": [
    "# Replace None with appropriate code\n",
    "\n",
    "# Import the library\n",
    "!pip install folium\n",
    "import folium\n",
    "# Set up center latitude and longitude\n",
    "center_lat = full_dataset[0]['latitude']\n",
    "center_long = full_dataset[0]['longitude']\n",
    "\n",
    "# Initialize map with center lat and long\n",
    "yelp_map = folium.Map(location=[center_lat, center_long], zoom_start=12)\n",
    "\n",
    "# Adjust this limit to see more or fewer businesses\n",
    "limit=100\n",
    "\n",
    "for business in full_dataset[:limit]:\n",
    "    # Extract information about business\n",
    "    lat = business['latitude']\n",
    "    long = business['longitude']\n",
    "    name = business['name']\n",
    "    rating = business['rating']\n",
    "    price = business['price']\n",
    "    details = \"{}\\nPrice: {} Rating:{}\".format(name,price,rating)\n",
    "    \n",
    "    # Create popup with relevant details\n",
    "    popup = folium.Popup(details)\n",
    "    \n",
    "    # Create marker with relevant lat/long and popup\n",
    "    marker = folium.Marker(location=[center_lat, center_long], popup=popup)\n",
    "    \n",
    "    marker.add_to(yelp_map)\n",
    "    \n",
    "yelp_map"
   ]
  },
  {
   "cell_type": "markdown",
   "metadata": {},
   "source": [
    "## Summary\n",
    "\n",
    "Nice work! In this lab, you've made multiple API calls to Yelp in order to paginate through a results set, performing some basic exploratory analysis and then creating a nice interactive map to display the results using Folium! Well done!"
   ]
  }
 ],
 "metadata": {
  "kernelspec": {
   "display_name": "Python 3",
   "language": "python",
   "name": "python3"
  },
  "language_info": {
   "codemirror_mode": {
    "name": "ipython",
    "version": 3
   },
   "file_extension": ".py",
   "mimetype": "text/x-python",
   "name": "python",
   "nbconvert_exporter": "python",
   "pygments_lexer": "ipython3",
   "version": "3.8.5"
  },
  "toc": {
   "base_numbering": 1,
   "nav_menu": {},
   "number_sections": true,
   "sideBar": true,
   "skip_h1_title": false,
   "title_cell": "Table of Contents",
   "title_sidebar": "Contents",
   "toc_cell": false,
   "toc_position": {},
   "toc_section_display": true,
   "toc_window_display": false
  }
 },
 "nbformat": 4,
 "nbformat_minor": 2
}
