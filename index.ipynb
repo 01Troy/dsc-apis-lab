{
 "cells": [
  {
   "cell_type": "markdown",
   "metadata": {},
   "source": [
    "# Building a Simple GIS with Yelp API and Folium - Lab\n",
    "\n",
    "## Introduction \n",
    "\n",
    "So we have learned quite a bit about APIs and how they are now big buzzword in the tech industry. Think of it as a protocol for how to make requests and communicate with another server. We have seen how to mine Twitter for getting text data and apply basic frequency based NLP techniques to get some insight. \n",
    "\n",
    "One of the key aspects of being a data scientist is the ability to learn how a new API works, how to go through its specific authentication process (OAuth) and how to process the data structures that get returned as a response to our requests. It is a good practice to spend some time learning the API through the official documentation before sending in requests. \n",
    "\n",
    "On these lines, this lab requires you to learn another popular API (YELP Fusion) by following the provided detailed online documentation. We shall build a simple Geographical Information System (GIS) using the data from yelp."
   ]
  },
  {
   "cell_type": "markdown",
   "metadata": {},
   "source": [
    "## Objectives\n",
    "You will be able to: \n",
    "* Successfully sign up for Yelp API \n",
    "* Create HTTP requests to get data from Yelp API\n",
    "* Parse HTTP responses and perform data analysis on the data returned\n",
    "* Create a simple geographical system on to view information about selected businesses, at a given location. \n"
   ]
  },
  {
   "cell_type": "markdown",
   "metadata": {},
   "source": [
    "## The Yelp Fusion API - v3\n",
    "\n",
    "\n",
    "### Point your browser over to this [yelp page](https://www.yelp.com/developers/v3/manage_app) and create an app in order to obtain  `client_id` and `api_key` tokens. \n",
    "\n",
    "**NOTE:** You will be required to sign up using Google or Facebook etc. if you dont already have an account.\n",
    "\n",
    "<img src=\"yelp_app.png\" width=500>\n",
    "\n"
   ]
  },
  {
   "cell_type": "markdown",
   "metadata": {},
   "source": [
    "After registration, you'll be presented with your account information and limits of your access. For Yelp, or any other API for that reason, you need to make sure that you dont surpass your request quota, otherwise, you may end up getting banned in some cases. Yelp shows this information to you as below:\n",
    "\n",
    "<img src=\"quota.png\" width=500>"
   ]
  },
  {
   "cell_type": "markdown",
   "metadata": {},
   "source": [
    "### Save your api_key and client_id in the variables below:"
   ]
  },
  {
   "cell_type": "code",
   "execution_count": 1,
   "metadata": {},
   "outputs": [],
   "source": [
    "# Save your tokens in the following string variables\n",
    "client_id = 'xNHtXRpNa-MXGFJJTHHUvw'\n",
    "api_key = 'bIufucVD4DflHdSAhnJF7wJuBmJQAsnOdlKX2XgNZQkGZl8TcyFrGy0dtmBstVBVezqv-myfGeY7a6GZG4KQNOLGdD8YFVkTSLW0zfFc0MkiHCcyHc7urlbf_uMiW3Yx'"
   ]
  },
  {
   "cell_type": "markdown",
   "metadata": {},
   "source": [
    "## The `yelpapi` "
   ]
  },
  {
   "cell_type": "markdown",
   "metadata": {},
   "source": [
    "The yelpapi is a pure Python implementation of the Yelp Fusion API (aka Yelp v3 API). It is simple, fast, and robust to any changes Yelp may make to the API in the future. See tha basic usage of this library on the [official Github repo](https://github.com/gfairchild/yelpapi). You may look out for other APIs to achieve this but for this lesson, we shall use it for sake of simplicity. \n",
    "\n",
    "First you must pip install the library"
   ]
  },
  {
   "cell_type": "code",
   "execution_count": null,
   "metadata": {},
   "outputs": [],
   "source": [
    "# !pip install yelpapi"
   ]
  },
  {
   "cell_type": "markdown",
   "metadata": {},
   "source": [
    "### Import `yelpapi ` into working environment and pass in the api_key as shown in the Github Repo "
   ]
  },
  {
   "cell_type": "code",
   "execution_count": 137,
   "metadata": {},
   "outputs": [],
   "source": [
    "from yelpapi import YelpAPI\n",
    "yelp_api = YelpAPI(api_key)"
   ]
  },
  {
   "cell_type": "markdown",
   "metadata": {},
   "source": [
    "### The Api request and response\n",
    "\n",
    "Great so we can now start making API calls using the format:\n",
    "```python\n",
    "response = yelp_api.search_query(term =<search term>, \n",
    "                                 location=<search location>, \n",
    "                                 sort_by='rating', \n",
    "                                 limit=50)\n",
    "```\n",
    "We can pass in a lot more arguments to refine our search. [Here is a complete list of options that search API provides us](https://www.yelp.com/developers/documentation/v3/business_search)\n",
    "\n",
    "* Make an API request using a simple criteria location and term\n",
    "* save the response as `response` \n",
    "* inspect the type and contents of `response`."
   ]
  },
  {
   "cell_type": "code",
   "execution_count": 139,
   "metadata": {},
   "outputs": [],
   "source": [
    "## Pass in a spcific term and location to make a call. \n",
    "\n",
    "# For this example, we are looking for chinese food in London.\n",
    "\n",
    "term = 'Chinese food'\n",
    "location = 'London'"
   ]
  },
  {
   "cell_type": "code",
   "execution_count": 141,
   "metadata": {},
   "outputs": [
    {
     "name": "stdout",
     "output_type": "stream",
     "text": [
      "{'businesses': [{'id': 'QE5aa5N-dbfvafLsjn7TVg', 'alias': 'bamboo-flute-fitzrovia', 'name': 'Bamboo Flute', 'image_url': 'https://s3-media3.fl.yelpcdn.com/bphoto/kYQZjHmzt8zy1634OsAsxQ/o.jpg', 'is_closed': False, 'url': 'https://www.yelp.com/biz/bamboo-flute-fitzrovia?adjust_creative=xNHtXRpNa-MXGFJJTHHUvw&utm_campaign=yelp_api_v3&utm_medium=api_v3_business_search&utm_source=xNHtXRpNa-MXGFJJTHHUvw', 'review_count': 29, 'categories': [{'alias': 'chinese', 'title': 'Chinese'}], 'rating': 4.5, 'coordinates': {'latitude': 51.5228746, 'longitude': -0.1418939}, 'transactions': [], 'price': '£', 'location': {'address1': '145 Cleveland Street', 'address2': '', 'address3': '', 'city': 'Fitzrovia', 'zip_code': 'W1T 6QH', 'country': 'GB', 'state': 'XGL', 'display_address': ['145 Cleveland Street', 'Fitzrovia W1T 6QH', 'United Kingdom']}, 'phone': '+442073872738', 'display_phone': '+44 20 7387 2738', 'distance': 1189.5082547156321}, {'id': 'h2cCoDNQOPd51HFwvuAGNg', 'alias': 'hakkasan-london-3', 'name': 'Hakkasan', 'image_url': 'https://s3-media2.fl.yelpcdn.com/bphoto/IcS9yzJnweDO4DsfJ94jAw/o.jpg', 'is_closed': False, 'url': 'https://www.yelp.com/biz/hakkasan-london-3?adjust_creative=xNHtXRpNa-MXGFJJTHHUvw&utm_campaign=yelp_api_v3&utm_medium=api_v3_business_search&utm_source=xNHtXRpNa-MXGFJJTHHUvw', 'review_count': 216, 'categories': [{'alias': 'cantonese', 'title': 'Cantonese'}], 'rating': 4.0, 'coordinates': {'latitude': 51.5171482803943, 'longitude': -0.13180578932657}, 'transactions': [], 'price': '££££', 'location': {'address1': '8 Hanway Place', 'address2': '', 'address3': '', 'city': 'London', 'zip_code': 'W1T 1HD', 'country': 'GB', 'state': 'XGL', 'display_address': ['8 Hanway Place', 'London W1T 1HD', 'United Kingdom']}, 'phone': '+442079277000', 'display_phone': '+44 20 7927 7000', 'distance': 558.9650039747677}, {'id': 'sYwBQ7mJYhB35nn-_SZstQ', 'alias': 'yauatcha-london-7', 'name': 'Yauatcha', 'image_url': 'https://s3-media4.fl.yelpcdn.com/bphoto/K7D6nwyZbZFODMy4jEfr0A/o.jpg', 'is_closed': False, 'url': 'https://www.yelp.com/biz/yauatcha-london-7?adjust_creative=xNHtXRpNa-MXGFJJTHHUvw&utm_campaign=yelp_api_v3&utm_medium=api_v3_business_search&utm_source=xNHtXRpNa-MXGFJJTHHUvw', 'review_count': 456, 'categories': [{'alias': 'dimsum', 'title': 'Dim Sum'}, {'alias': 'seafood', 'title': 'Seafood'}, {'alias': 'noodles', 'title': 'Noodles'}], 'rating': 4.0, 'coordinates': {'latitude': 51.5137076071076, 'longitude': -0.135128831605189}, 'transactions': [], 'price': '£££', 'location': {'address1': '15-17 Broadwick Street', 'address2': '', 'address3': '', 'city': 'London', 'zip_code': 'W1F 0DL', 'country': 'GB', 'state': 'XGL', 'display_address': ['15-17 Broadwick Street', 'London W1F 0DL', 'United Kingdom']}, 'phone': '+442074948888', 'display_phone': '+44 20 7494 8888', 'distance': 112.59840998419494}, {'id': 'pdFiFtol9YI__9ROOXUIYA', 'alias': 'lanzhou-noodle-bar-london', 'name': 'Lanzhou Noodle Bar', 'image_url': 'https://s3-media4.fl.yelpcdn.com/bphoto/IKy91e7hb9w14m4eA9HH1w/o.jpg', 'is_closed': False, 'url': 'https://www.yelp.com/biz/lanzhou-noodle-bar-london?adjust_creative=xNHtXRpNa-MXGFJJTHHUvw&utm_campaign=yelp_api_v3&utm_medium=api_v3_business_search&utm_source=xNHtXRpNa-MXGFJJTHHUvw', 'review_count': 300, 'categories': [{'alias': 'chinese', 'title': 'Chinese'}, {'alias': 'noodles', 'title': 'Noodles'}], 'rating': 4.0, 'coordinates': {'latitude': 51.5116034713013, 'longitude': -0.127834377873126}, 'transactions': [], 'price': '£', 'location': {'address1': '33 Cranbourne Street', 'address2': '', 'address3': '', 'city': 'London', 'zip_code': 'WC2H 7AD', 'country': 'GB', 'state': 'XGL', 'display_address': ['33 Cranbourne Street', 'London WC2H 7AD', 'United Kingdom']}, 'phone': '+442074674546', 'display_phone': '+44 20 7467 4546', 'distance': 578.4743547816091}, {'id': 'chEEcQbc8PbidTeXK34H9g', 'alias': 'hakkasan-mayfair-london-2', 'name': 'Hakkasan Mayfair', 'image_url': 'https://s3-media4.fl.yelpcdn.com/bphoto/7l0tXtBLbWOtWTCQVJLLYw/o.jpg', 'is_closed': False, 'url': 'https://www.yelp.com/biz/hakkasan-mayfair-london-2?adjust_creative=xNHtXRpNa-MXGFJJTHHUvw&utm_campaign=yelp_api_v3&utm_medium=api_v3_business_search&utm_source=xNHtXRpNa-MXGFJJTHHUvw', 'review_count': 116, 'categories': [{'alias': 'chinese', 'title': 'Chinese'}], 'rating': 4.0, 'coordinates': {'latitude': 51.5103202323384, 'longitude': -0.144935268434918}, 'transactions': [], 'price': '££££', 'location': {'address1': '17 Bruton Street', 'address2': '', 'address3': '', 'city': 'London', 'zip_code': 'W1J 6QB', 'country': 'GB', 'state': 'XGL', 'display_address': ['17 Bruton Street', 'London W1J 6QB', 'United Kingdom']}, 'phone': '+442079071888', 'display_phone': '+44 20 7907 1888', 'distance': 681.4450716267161}, {'id': '6iCxFP7Oc0qG_6ByenO0sw', 'alias': 'silk-road-london-2', 'name': 'Silk Road', 'image_url': 'https://s3-media3.fl.yelpcdn.com/bphoto/pUXusTIbeDRInvi6fkNjmA/o.jpg', 'is_closed': False, 'url': 'https://www.yelp.com/biz/silk-road-london-2?adjust_creative=xNHtXRpNa-MXGFJJTHHUvw&utm_campaign=yelp_api_v3&utm_medium=api_v3_business_search&utm_source=xNHtXRpNa-MXGFJJTHHUvw', 'review_count': 43, 'categories': [{'alias': 'chinese', 'title': 'Chinese'}], 'rating': 4.5, 'coordinates': {'latitude': 51.4739712, 'longitude': -0.0896081}, 'transactions': [], 'price': '££', 'location': {'address1': '49 Camberwell Church Street', 'address2': '', 'address3': '', 'city': 'London', 'zip_code': 'SE5 8TR', 'country': 'GB', 'state': 'XGL', 'display_address': ['49 Camberwell Church Street', 'London SE5 8TR', 'United Kingdom']}, 'phone': '+442077034832', 'display_phone': '+44 20 7703 4832', 'distance': 5403.445838977789}, {'id': 'Mrv3dA42EioqBz50t_f24Q', 'alias': 'hunan-london', 'name': 'Hunan', 'image_url': 'https://s3-media3.fl.yelpcdn.com/bphoto/sEgrRrMVkWaky7Yc7dvdgg/o.jpg', 'is_closed': False, 'url': 'https://www.yelp.com/biz/hunan-london?adjust_creative=xNHtXRpNa-MXGFJJTHHUvw&utm_campaign=yelp_api_v3&utm_medium=api_v3_business_search&utm_source=xNHtXRpNa-MXGFJJTHHUvw', 'review_count': 38, 'categories': [{'alias': 'chinese', 'title': 'Chinese'}], 'rating': 4.5, 'coordinates': {'latitude': 51.490493, 'longitude': -0.1526547}, 'transactions': [], 'price': '££££', 'location': {'address1': '51 Pimlico Road', 'address2': '', 'address3': '', 'city': 'London', 'zip_code': 'SW1W 8NE', 'country': 'GB', 'state': 'XGL', 'display_address': ['51 Pimlico Road', 'London SW1W 8NE', 'United Kingdom']}, 'phone': '+442077305712', 'display_phone': '+44 20 7730 5712', 'distance': 2741.6022690860036}, {'id': 'MpdG-D0nKwGEZp0ApTtBaA', 'alias': 'barshu-london-2', 'name': 'Barshu', 'image_url': 'https://s3-media2.fl.yelpcdn.com/bphoto/jaGznOhEvqqcJXKCYt12Ug/o.jpg', 'is_closed': False, 'url': 'https://www.yelp.com/biz/barshu-london-2?adjust_creative=xNHtXRpNa-MXGFJJTHHUvw&utm_campaign=yelp_api_v3&utm_medium=api_v3_business_search&utm_source=xNHtXRpNa-MXGFJJTHHUvw', 'review_count': 96, 'categories': [{'alias': 'szechuan', 'title': 'Szechuan'}], 'rating': 4.0, 'coordinates': {'latitude': 51.512835, 'longitude': -0.130857}, 'transactions': [], 'price': '£££', 'location': {'address1': '28 Frith Street', 'address2': '', 'address3': '', 'city': 'London', 'zip_code': 'W1D 5LF', 'country': 'GB', 'state': 'XGL', 'display_address': ['28 Frith Street', 'London W1D 5LF', 'United Kingdom']}, 'phone': '+442072878822', 'display_phone': '+44 20 7287 8822', 'distance': 357.1885184880618}, {'id': '5-_YNjtvoG-oYt1qAO3tVw', 'alias': 'bugis-street-brasserie-london', 'name': 'Bugis Street Brasserie', 'image_url': 'https://s3-media1.fl.yelpcdn.com/bphoto/kgtAwZ3oF2wh05ndSzQ1zA/o.jpg', 'is_closed': False, 'url': 'https://www.yelp.com/biz/bugis-street-brasserie-london?adjust_creative=xNHtXRpNa-MXGFJJTHHUvw&utm_campaign=yelp_api_v3&utm_medium=api_v3_business_search&utm_source=xNHtXRpNa-MXGFJJTHHUvw', 'review_count': 43, 'categories': [{'alias': 'chinese', 'title': 'Chinese'}, {'alias': 'singaporean', 'title': 'Singaporean'}], 'rating': 4.0, 'coordinates': {'latitude': 51.4936621211568, 'longitude': -0.183931280273902}, 'transactions': [], 'price': '££', 'location': {'address1': 'Millennium Hotels & Resorts', 'address2': '4-18 Harrington Gardens', 'address3': '', 'city': 'London', 'zip_code': 'SW7 4LH', 'country': 'GB', 'state': 'XGL', 'display_address': ['Millennium Hotels & Resorts', '4-18 Harrington Gardens', 'London SW7 4LH', 'United Kingdom']}, 'phone': '+442073316211', 'display_phone': '+44 20 7331 6211', 'distance': 3946.1405823998143}, {'id': '3ea8x8r0gsVy8ltQycldsA', 'alias': 'gold-mine-london', 'name': 'Gold Mine', 'image_url': 'https://s3-media2.fl.yelpcdn.com/bphoto/aihm1QdPS5Mq79T_9rP7tA/o.jpg', 'is_closed': False, 'url': 'https://www.yelp.com/biz/gold-mine-london?adjust_creative=xNHtXRpNa-MXGFJJTHHUvw&utm_campaign=yelp_api_v3&utm_medium=api_v3_business_search&utm_source=xNHtXRpNa-MXGFJJTHHUvw', 'review_count': 66, 'categories': [{'alias': 'chinese', 'title': 'Chinese'}], 'rating': 4.0, 'coordinates': {'latitude': 51.5133018493652, 'longitude': -0.187491998076439}, 'transactions': [], 'price': '££', 'location': {'address1': '102 Queensway', 'address2': '', 'address3': '', 'city': 'London', 'zip_code': 'W2 3RR', 'country': 'GB', 'state': 'XGL', 'display_address': ['102 Queensway', 'London W2 3RR', 'United Kingdom']}, 'phone': '+442077928331', 'display_phone': '+44 20 7792 8331', 'distance': 3571.4713192257427}], 'total': 1200, 'region': {'center': {'longitude': -0.135955810546875, 'latitude': 51.51283552118349}}}\n"
     ]
    }
   ],
   "source": [
    "# Make an API call using chosen term and location\n",
    "\n",
    "response = yelp_api.search_query(term=term, location=location, sort_by='rating', limit=10)\n",
    "type(response)\n",
    "print(response)\n"
   ]
  },
  {
   "cell_type": "markdown",
   "metadata": {},
   "source": [
    "### JSON .. again ! \n",
    "\n",
    "We have a nice nifty little return now! As you can see, the contents of the response is formatted as a string but what kind of data structures does this remind you of?  \n",
    "\n",
    "To start there's the outer curly brackets:  \n",
    "\n",
    "#### {\"businesses\":   \n",
    "\n",
    "Hopefully you're thinking 'hey that's just like a python dictionary!'\n",
    "\n",
    "Then within that we have what appears to be a list of dictionaries:  \n",
    "\n",
    "#### {\"id\": \"jeWIYbgBho9vBDhc5S1xvg\",\n",
    "\n",
    "This response is an example of a JSON (JavaScript Object Notation) format that we've seen so many times before. We can simply treat it as a dictionary and process it further. "
   ]
  },
  {
   "cell_type": "markdown",
   "metadata": {},
   "source": [
    "### Inspect the values for all the keys in the response"
   ]
  },
  {
   "cell_type": "code",
   "execution_count": 154,
   "metadata": {},
   "outputs": [
    {
     "name": "stdout",
     "output_type": "stream",
     "text": [
      "businesses\n",
      "<class 'dict_values'>\n",
      "total\n",
      "<class 'dict_values'>\n",
      "region\n",
      "<class 'dict_values'>\n"
     ]
    }
   ],
   "source": [
    "# inspect the key value pairs to understand the strcuture of data \n",
    "\n",
    "for key in response.keys():\n",
    "    print(key)\n",
    "    value = response.values() #Use standard dictionary formatting\n",
    "    print(type(value)) #What type is it?\n"
   ]
  },
  {
   "cell_type": "markdown",
   "metadata": {},
   "source": [
    "Whoops, what's going on here!? Well, notice from our previous preview of the response that we saw there were a hierarhcy within the response. Let's begin to investigate further to see what the problem is.\n",
    "\n",
    "First, recall that the overall strucutre of the response was a dictionary. Let's look at what the keys are:"
   ]
  },
  {
   "cell_type": "code",
   "execution_count": 148,
   "metadata": {},
   "outputs": [
    {
     "data": {
      "text/plain": [
       "dict_keys(['businesses', 'total', 'region'])"
      ]
     },
     "execution_count": 148,
     "metadata": {},
     "output_type": "execute_result"
    }
   ],
   "source": [
    "response.keys()"
   ]
  },
  {
   "cell_type": "markdown",
   "metadata": {},
   "source": [
    "Consult the Yelp API and learn what value is carried in each key. \n",
    "\n",
    "#### Continue to preview these keys  further to get a little better acquainted. "
   ]
  },
  {
   "cell_type": "code",
   "execution_count": 152,
   "metadata": {},
   "outputs": [
    {
     "name": "stdout",
     "output_type": "stream",
     "text": [
      "BUSINESS: {'id': 'QE5aa5N-dbfvafLsjn7TVg', 'alias': 'bamboo-flute-fitzrovia', 'name': 'Bamboo Flute', 'image_url': 'https://s3-media3.fl.yelpcdn.com/bphoto/kYQZjHmzt8zy1634OsAsxQ/o.jpg', 'is_closed': False, 'url': 'https://www.yelp.com/biz/bamboo-flute-fitzrovia?adjust_creative=xNHtXRpNa-MXGFJJTHHUvw&utm_campaign=yelp_api_v3&utm_medium=api_v3_business_search&utm_source=xNHtXRpNa-MXGFJJTHHUvw', 'review_count': 29, 'categories': [{'alias': 'chinese', 'title': 'Chinese'}], 'rating': 4.5, 'coordinates': {'latitude': 51.5228746, 'longitude': -0.1418939}, 'transactions': [], 'price': '£', 'location': {'address1': '145 Cleveland Street', 'address2': '', 'address3': '', 'city': 'Fitzrovia', 'zip_code': 'W1T 6QH', 'country': 'GB', 'state': 'XGL', 'display_address': ['145 Cleveland Street', 'Fitzrovia W1T 6QH', 'United Kingdom']}, 'phone': '+442073872738', 'display_phone': '+44 20 7387 2738', 'distance': 1189.5082547156321}\n",
      "REGION: {'center': {'longitude': -0.135955810546875, 'latitude': 51.51283552118349}}\n",
      "TOTAL : 1200\n"
     ]
    }
   ],
   "source": [
    "print('BUSINESS:', response['businesses'][0])\n",
    "\n",
    "print('REGION:', response['region'])\n",
    "\n",
    "print('TOTAL :',response['total'])"
   ]
  },
  {
   "cell_type": "markdown",
   "metadata": {},
   "source": [
    "This makes more sense, so we are mainly interested in the `businesses` for our needs. \n",
    "\n",
    "### Print the names of businesses and included ratings "
   ]
  },
  {
   "cell_type": "code",
   "execution_count": 153,
   "metadata": {},
   "outputs": [
    {
     "name": "stdout",
     "output_type": "stream",
     "text": [
      "bamboo-flute-fitzrovia - 4.5\n",
      "hakkasan-london-3 - 4.0\n",
      "yauatcha-london-7 - 4.0\n",
      "lanzhou-noodle-bar-london - 4.0\n",
      "hakkasan-mayfair-london-2 - 4.0\n",
      "silk-road-london-2 - 4.5\n",
      "hunan-london - 4.5\n",
      "barshu-london-2 - 4.0\n",
      "bugis-street-brasserie-london - 4.0\n",
      "gold-mine-london - 4.0\n"
     ]
    }
   ],
   "source": [
    "for r in response['businesses']:\n",
    "    print (r['alias'], '-' , r['rating'])"
   ]
  },
  {
   "cell_type": "markdown",
   "metadata": {},
   "source": [
    "Great, now are are getting somewhere. It is a good idea at this stage to store this information as a dataframe for processing further. \n",
    "### Create a Pandas dataframe for contents of `businesses`\n",
    "* Check the number of records in the dataframe\n",
    "* Inspect the columns and head"
   ]
  },
  {
   "cell_type": "code",
   "execution_count": 155,
   "metadata": {
    "scrolled": false
   },
   "outputs": [
    {
     "name": "stdout",
     "output_type": "stream",
     "text": [
      "10\n",
      "Index(['alias', 'categories', 'coordinates', 'display_phone', 'distance', 'id',\n",
      "       'image_url', 'is_closed', 'location', 'name', 'phone', 'price',\n",
      "       'rating', 'review_count', 'transactions', 'url'],\n",
      "      dtype='object')\n"
     ]
    },
    {
     "data": {
      "text/html": [
       "<div>\n",
       "<style scoped>\n",
       "    .dataframe tbody tr th:only-of-type {\n",
       "        vertical-align: middle;\n",
       "    }\n",
       "\n",
       "    .dataframe tbody tr th {\n",
       "        vertical-align: top;\n",
       "    }\n",
       "\n",
       "    .dataframe thead th {\n",
       "        text-align: right;\n",
       "    }\n",
       "</style>\n",
       "<table border=\"1\" class=\"dataframe\">\n",
       "  <thead>\n",
       "    <tr style=\"text-align: right;\">\n",
       "      <th></th>\n",
       "      <th>alias</th>\n",
       "      <th>categories</th>\n",
       "      <th>coordinates</th>\n",
       "      <th>display_phone</th>\n",
       "      <th>distance</th>\n",
       "      <th>id</th>\n",
       "      <th>image_url</th>\n",
       "      <th>is_closed</th>\n",
       "      <th>location</th>\n",
       "      <th>name</th>\n",
       "      <th>phone</th>\n",
       "      <th>price</th>\n",
       "      <th>rating</th>\n",
       "      <th>review_count</th>\n",
       "      <th>transactions</th>\n",
       "      <th>url</th>\n",
       "    </tr>\n",
       "  </thead>\n",
       "  <tbody>\n",
       "    <tr>\n",
       "      <th>0</th>\n",
       "      <td>bamboo-flute-fitzrovia</td>\n",
       "      <td>[{'alias': 'chinese', 'title': 'Chinese'}]</td>\n",
       "      <td>{'latitude': 51.5228746, 'longitude': -0.1418939}</td>\n",
       "      <td>+44 20 7387 2738</td>\n",
       "      <td>1189.508255</td>\n",
       "      <td>QE5aa5N-dbfvafLsjn7TVg</td>\n",
       "      <td>https://s3-media3.fl.yelpcdn.com/bphoto/kYQZjH...</td>\n",
       "      <td>False</td>\n",
       "      <td>{'address1': '145 Cleveland Street', 'address2...</td>\n",
       "      <td>Bamboo Flute</td>\n",
       "      <td>+442073872738</td>\n",
       "      <td>£</td>\n",
       "      <td>4.5</td>\n",
       "      <td>29</td>\n",
       "      <td>[]</td>\n",
       "      <td>https://www.yelp.com/biz/bamboo-flute-fitzrovi...</td>\n",
       "    </tr>\n",
       "    <tr>\n",
       "      <th>1</th>\n",
       "      <td>hakkasan-london-3</td>\n",
       "      <td>[{'alias': 'cantonese', 'title': 'Cantonese'}]</td>\n",
       "      <td>{'latitude': 51.5171482803943, 'longitude': -0...</td>\n",
       "      <td>+44 20 7927 7000</td>\n",
       "      <td>558.965004</td>\n",
       "      <td>h2cCoDNQOPd51HFwvuAGNg</td>\n",
       "      <td>https://s3-media2.fl.yelpcdn.com/bphoto/IcS9yz...</td>\n",
       "      <td>False</td>\n",
       "      <td>{'address1': '8 Hanway Place', 'address2': '',...</td>\n",
       "      <td>Hakkasan</td>\n",
       "      <td>+442079277000</td>\n",
       "      <td>££££</td>\n",
       "      <td>4.0</td>\n",
       "      <td>216</td>\n",
       "      <td>[]</td>\n",
       "      <td>https://www.yelp.com/biz/hakkasan-london-3?adj...</td>\n",
       "    </tr>\n",
       "    <tr>\n",
       "      <th>2</th>\n",
       "      <td>yauatcha-london-7</td>\n",
       "      <td>[{'alias': 'dimsum', 'title': 'Dim Sum'}, {'al...</td>\n",
       "      <td>{'latitude': 51.5137076071076, 'longitude': -0...</td>\n",
       "      <td>+44 20 7494 8888</td>\n",
       "      <td>112.598410</td>\n",
       "      <td>sYwBQ7mJYhB35nn-_SZstQ</td>\n",
       "      <td>https://s3-media4.fl.yelpcdn.com/bphoto/K7D6nw...</td>\n",
       "      <td>False</td>\n",
       "      <td>{'address1': '15-17 Broadwick Street', 'addres...</td>\n",
       "      <td>Yauatcha</td>\n",
       "      <td>+442074948888</td>\n",
       "      <td>£££</td>\n",
       "      <td>4.0</td>\n",
       "      <td>456</td>\n",
       "      <td>[]</td>\n",
       "      <td>https://www.yelp.com/biz/yauatcha-london-7?adj...</td>\n",
       "    </tr>\n",
       "    <tr>\n",
       "      <th>3</th>\n",
       "      <td>lanzhou-noodle-bar-london</td>\n",
       "      <td>[{'alias': 'chinese', 'title': 'Chinese'}, {'a...</td>\n",
       "      <td>{'latitude': 51.5116034713013, 'longitude': -0...</td>\n",
       "      <td>+44 20 7467 4546</td>\n",
       "      <td>578.474355</td>\n",
       "      <td>pdFiFtol9YI__9ROOXUIYA</td>\n",
       "      <td>https://s3-media4.fl.yelpcdn.com/bphoto/IKy91e...</td>\n",
       "      <td>False</td>\n",
       "      <td>{'address1': '33 Cranbourne Street', 'address2...</td>\n",
       "      <td>Lanzhou Noodle Bar</td>\n",
       "      <td>+442074674546</td>\n",
       "      <td>£</td>\n",
       "      <td>4.0</td>\n",
       "      <td>300</td>\n",
       "      <td>[]</td>\n",
       "      <td>https://www.yelp.com/biz/lanzhou-noodle-bar-lo...</td>\n",
       "    </tr>\n",
       "    <tr>\n",
       "      <th>4</th>\n",
       "      <td>hakkasan-mayfair-london-2</td>\n",
       "      <td>[{'alias': 'chinese', 'title': 'Chinese'}]</td>\n",
       "      <td>{'latitude': 51.5103202323384, 'longitude': -0...</td>\n",
       "      <td>+44 20 7907 1888</td>\n",
       "      <td>681.445072</td>\n",
       "      <td>chEEcQbc8PbidTeXK34H9g</td>\n",
       "      <td>https://s3-media4.fl.yelpcdn.com/bphoto/7l0tXt...</td>\n",
       "      <td>False</td>\n",
       "      <td>{'address1': '17 Bruton Street', 'address2': '...</td>\n",
       "      <td>Hakkasan Mayfair</td>\n",
       "      <td>+442079071888</td>\n",
       "      <td>££££</td>\n",
       "      <td>4.0</td>\n",
       "      <td>116</td>\n",
       "      <td>[]</td>\n",
       "      <td>https://www.yelp.com/biz/hakkasan-mayfair-lond...</td>\n",
       "    </tr>\n",
       "  </tbody>\n",
       "</table>\n",
       "</div>"
      ],
      "text/plain": [
       "                       alias  \\\n",
       "0     bamboo-flute-fitzrovia   \n",
       "1          hakkasan-london-3   \n",
       "2          yauatcha-london-7   \n",
       "3  lanzhou-noodle-bar-london   \n",
       "4  hakkasan-mayfair-london-2   \n",
       "\n",
       "                                          categories  \\\n",
       "0         [{'alias': 'chinese', 'title': 'Chinese'}]   \n",
       "1     [{'alias': 'cantonese', 'title': 'Cantonese'}]   \n",
       "2  [{'alias': 'dimsum', 'title': 'Dim Sum'}, {'al...   \n",
       "3  [{'alias': 'chinese', 'title': 'Chinese'}, {'a...   \n",
       "4         [{'alias': 'chinese', 'title': 'Chinese'}]   \n",
       "\n",
       "                                         coordinates     display_phone  \\\n",
       "0  {'latitude': 51.5228746, 'longitude': -0.1418939}  +44 20 7387 2738   \n",
       "1  {'latitude': 51.5171482803943, 'longitude': -0...  +44 20 7927 7000   \n",
       "2  {'latitude': 51.5137076071076, 'longitude': -0...  +44 20 7494 8888   \n",
       "3  {'latitude': 51.5116034713013, 'longitude': -0...  +44 20 7467 4546   \n",
       "4  {'latitude': 51.5103202323384, 'longitude': -0...  +44 20 7907 1888   \n",
       "\n",
       "      distance                      id  \\\n",
       "0  1189.508255  QE5aa5N-dbfvafLsjn7TVg   \n",
       "1   558.965004  h2cCoDNQOPd51HFwvuAGNg   \n",
       "2   112.598410  sYwBQ7mJYhB35nn-_SZstQ   \n",
       "3   578.474355  pdFiFtol9YI__9ROOXUIYA   \n",
       "4   681.445072  chEEcQbc8PbidTeXK34H9g   \n",
       "\n",
       "                                           image_url  is_closed  \\\n",
       "0  https://s3-media3.fl.yelpcdn.com/bphoto/kYQZjH...      False   \n",
       "1  https://s3-media2.fl.yelpcdn.com/bphoto/IcS9yz...      False   \n",
       "2  https://s3-media4.fl.yelpcdn.com/bphoto/K7D6nw...      False   \n",
       "3  https://s3-media4.fl.yelpcdn.com/bphoto/IKy91e...      False   \n",
       "4  https://s3-media4.fl.yelpcdn.com/bphoto/7l0tXt...      False   \n",
       "\n",
       "                                            location                name  \\\n",
       "0  {'address1': '145 Cleveland Street', 'address2...        Bamboo Flute   \n",
       "1  {'address1': '8 Hanway Place', 'address2': '',...            Hakkasan   \n",
       "2  {'address1': '15-17 Broadwick Street', 'addres...            Yauatcha   \n",
       "3  {'address1': '33 Cranbourne Street', 'address2...  Lanzhou Noodle Bar   \n",
       "4  {'address1': '17 Bruton Street', 'address2': '...    Hakkasan Mayfair   \n",
       "\n",
       "           phone price  rating  review_count transactions  \\\n",
       "0  +442073872738     £     4.5            29           []   \n",
       "1  +442079277000  ££££     4.0           216           []   \n",
       "2  +442074948888   £££     4.0           456           []   \n",
       "3  +442074674546     £     4.0           300           []   \n",
       "4  +442079071888  ££££     4.0           116           []   \n",
       "\n",
       "                                                 url  \n",
       "0  https://www.yelp.com/biz/bamboo-flute-fitzrovi...  \n",
       "1  https://www.yelp.com/biz/hakkasan-london-3?adj...  \n",
       "2  https://www.yelp.com/biz/yauatcha-london-7?adj...  \n",
       "3  https://www.yelp.com/biz/lanzhou-noodle-bar-lo...  \n",
       "4  https://www.yelp.com/biz/hakkasan-mayfair-lond...  "
      ]
     },
     "execution_count": 155,
     "metadata": {},
     "output_type": "execute_result"
    }
   ],
   "source": [
    "import pandas as pd\n",
    "df = pd.DataFrame.from_dict(response['businesses'])\n",
    "print(len(df)) #Print how many rows\n",
    "print(df.columns) #Print column names\n",
    "df.head() #Previews the first five rows. \n"
   ]
  },
  {
   "cell_type": "markdown",
   "metadata": {},
   "source": [
    "This is fantastic. We have successfully learned a new API , made requests to it, recieved and studied the response and stored the results in a dataframe and can now enjoy all the goodness of Pandas. Thats quite a bit of data engineering. \n",
    "\n",
    "### Visualize the location from search query\n",
    "The `region` key in the response carries the geographical information for the region searched.\n",
    "* Get the latitude / longitude information from `region`\n",
    "* Create a folium map with these coordinates. \n",
    "* Use a zoom start value = 13"
   ]
  },
  {
   "cell_type": "code",
   "execution_count": 156,
   "metadata": {
    "scrolled": false
   },
   "outputs": [
    {
     "data": {
      "text/html": [
       "<div style=\"width:100%;\"><div style=\"position:relative;width:100%;height:0;padding-bottom:60%;\"><iframe src=\"data:text/html;charset=utf-8;base64,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\" style=\"position:absolute;width:100%;height:100%;left:0;top:0;border:none !important;\" allowfullscreen webkitallowfullscreen mozallowfullscreen></iframe></div></div>"
      ],
      "text/plain": [
       "<folium.folium.Map at 0x113a3ec18>"
      ]
     },
     "execution_count": 156,
     "metadata": {},
     "output_type": "execute_result"
    }
   ],
   "source": [
    "import folium\n",
    "\n",
    "#Retrieve the Latitude and Longitude from the Yelp Response\n",
    "lat_long = response['region']['center']\n",
    "lat = lat_long['latitude']\n",
    "long = lat_long['longitude']\n",
    "\n",
    "#Create a map of the area\n",
    "yelp_map = folium.Map([lat, long], zoom_start=13)\n",
    "yelp_map"
   ]
  },
  {
   "cell_type": "markdown",
   "metadata": {},
   "source": [
    "Nice. We can now extract the coordinate information for each business and plot it on this map.\n",
    "\n",
    "### Get the business coordinates from dataframe for each business and plot on the map above"
   ]
  },
  {
   "cell_type": "code",
   "execution_count": 162,
   "metadata": {
    "scrolled": true
   },
   "outputs": [
    {
     "data": {
      "text/html": [
       "<div style=\"width:100%;\"><div style=\"position:relative;width:100%;height:0;padding-bottom:60%;\"><iframe src=\"data:text/html;charset=utf-8;base64,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\" style=\"position:absolute;width:100%;height:100%;left:0;top:0;border:none !important;\" allowfullscreen webkitallowfullscreen mozallowfullscreen></iframe></div></div>"
      ],
      "text/plain": [
       "<folium.folium.Map at 0x113a3ec18>"
      ]
     },
     "execution_count": 162,
     "metadata": {},
     "output_type": "execute_result"
    }
   ],
   "source": [
    "for row in df.index:\n",
    "    \n",
    "    lat_long = df['coordinates'][row]\n",
    "    lat = lat_long['latitude']\n",
    "    long = lat_long['longitude']\n",
    "\n",
    "    marker = folium.Marker(location=[lat,long])\n",
    "    marker.add_to(yelp_map)\n",
    "yelp_map"
   ]
  },
  {
   "cell_type": "markdown",
   "metadata": {},
   "source": [
    "Kool so we have everything in place but the visualization is still not very *Informative* so to speak. You can't tell which marker represents which business and also other information on business like rating, cost, links to user reviews etc. is still not visible. SO its geographical , but not exactly an Information System yet as you cant make any decisions on this information.  Here's as example of what it possible can look like\n",
    "![](out.png)\n"
   ]
  },
  {
   "cell_type": "markdown",
   "metadata": {},
   "source": [
    "For this you need to understand `folium.popup()` which let's you click on a marker to show a pop up window. This window acts more like an HTML page so you can easily format the information you present in the popup using following values:\n",
    "* The official business logo/image:  `image_url`\n",
    "* Name of the Business: `name`\n",
    "* Price (how expensive): `price`\n",
    "* Links to user reviews on Yelp: `url`\n",
    "\n",
    "Doing this in HTML is not required , so we recommend that you first try to put in basic information in the popups as just text. As a next stage , you can start changing into HTML code to make it visually more appealing.\n",
    "\n",
    "### Attempt to recreate the interactive visualization shown above.\n",
    "\n",
    "Here's a good resource with code examples on [how to create folium popups](https://github.com/python-visualization/folium/blob/master/examples/Popups.ipynb)"
   ]
  },
  {
   "cell_type": "code",
   "execution_count": 164,
   "metadata": {},
   "outputs": [
    {
     "data": {
      "text/html": [
       "<div style=\"width:100%;\"><div style=\"position:relative;width:100%;height:0;padding-bottom:60%;\"><iframe src=\"data:text/html;charset=utf-8;base64,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\" style=\"position:absolute;width:100%;height:100%;left:0;top:0;border:none !important;\" allowfullscreen webkitallowfullscreen mozallowfullscreen></iframe></div></div>"
      ],
      "text/plain": [
       "<folium.folium.Map at 0x113a3ec18>"
      ]
     },
     "execution_count": 164,
     "metadata": {},
     "output_type": "execute_result"
    }
   ],
   "source": [
    "from folium import IFrame\n",
    "\n",
    "for row in df.index:\n",
    "   \n",
    "    lat_long = df['coordinates'][row]\n",
    "    lat = lat_long['latitude']\n",
    "    long = lat_long['longitude']\n",
    "\n",
    "    name = 'Business Name: ' + str(df['name'][row])\n",
    "    rating = 'Rating: ' + str(df['rating'][row])\n",
    "    price = 'Price: ' + str(df['price'][row])\n",
    "\n",
    "    img = df['image_url'][row]\n",
    "    txt = folium.Html('<head><style> body {background-image: url('+ img+ ');\\\n",
    "                        background-color: rgba(255,255,255,0.6);background-blend-mode: lighten;\\\n",
    "                        background-position: center; background-repeat: no-repeat; background-size: cover;}</style></head>' +\n",
    "                      '<H2><center><font color=\"black\">' + str(df['name'][row]) + '</H2></center>' +\\\n",
    "                      '<B><center>Rating: </B>' + str(df['rating'][row]) + '/ 5</br></center>' +\\\n",
    "                      '<B><center>Price: </B>' + str(df['price'][row]) + '</br></center>' +\\\n",
    "                      '<center><a href='+ str(df['url'][row])+ ' target=\"_blank\">Read Reviews</b></a></br></br></center>' + \\\n",
    "                      '<small>Searching for '+ term + ' in ' + location, script=True)\n",
    "\n",
    "    iframe = folium.IFrame(txt, width=400, height=150)\n",
    "    popup = folium.Popup(iframe, max_width=3000)\n",
    "    Text = folium.Marker(location=[lat,long], popup=popup,icon=folium.Icon(icon_color='green'))\n",
    "    yelp_map.add_child(Text)\n",
    "\n",
    "yelp_map"
   ]
  },
  {
   "cell_type": "markdown",
   "metadata": {},
   "source": [
    "Wow . An Interactive Geographical information System backed by live data through API calling. \n",
    "\n",
    "<img src=\"star.jpg\" width=300>\n",
    "\n",
    "### More APIs to Checkout\n",
    "\n",
    "* Google Maps\n",
    "* Twitter\n",
    "* AWS\n",
    "* IBM's Watson\n",
    "* Yelp"
   ]
  },
  {
   "cell_type": "markdown",
   "metadata": {},
   "source": [
    "## Summary \n",
    "\n",
    "In this lab, we learned how to use the Yelp API with authentication, making calls, understanding the responses and creating interactive geographical visualizations in Folium. We encourage you to re-visit this lab again once you have studied some important machine learning algorithms to make predictions , find similarities, group/cluster businesses or classify them based on user criteria. "
   ]
  }
 ],
 "metadata": {
  "kernelspec": {
   "display_name": "Python 3",
   "language": "python",
   "name": "python3"
  },
  "language_info": {
   "codemirror_mode": {
    "name": "ipython",
    "version": 3
   },
   "file_extension": ".py",
   "mimetype": "text/x-python",
   "name": "python",
   "nbconvert_exporter": "python",
   "pygments_lexer": "ipython3",
   "version": "3.6.4"
  }
 },
 "nbformat": 4,
 "nbformat_minor": 2
}
